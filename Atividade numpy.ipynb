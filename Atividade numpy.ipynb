{
 "cells": [
  {
   "cell_type": "code",
   "execution_count": null,
   "metadata": {},
   "outputs": [
    {
     "name": "stdout",
     "output_type": "stream",
     "text": [
      "[ 3.  5.  9. 16. 25.]\n"
     ]
    }
   ],
   "source": [
    "#1\n",
    "\n",
    "import numpy as np\n",
    "\n",
    "\n",
    "arr = np.array([3, 5, 9, 16, 25])\n",
    "\n",
    "\n",
    "arr_float = arr.astype(float)\n",
    "\n",
    "print(arr_float)"
   ]
  },
  {
   "cell_type": "code",
   "execution_count": null,
   "metadata": {},
   "outputs": [
    {
     "name": "stdout",
     "output_type": "stream",
     "text": [
      "[ 1 -3  8 16]\n"
     ]
    }
   ],
   "source": [
    "#2\n",
    "import numpy as np\n",
    "\n",
    "\n",
    "arr = np.array([1.2, -3.6, 8.99999, 16.1])\n",
    "\n",
    "\n",
    "arr_int = arr.astype(int)\n",
    "\n",
    "print(arr_int)\n",
    "\n"
   ]
  },
  {
   "cell_type": "code",
   "execution_count": null,
   "metadata": {},
   "outputs": [
    {
     "name": "stdout",
     "output_type": "stream",
     "text": [
      "[[0. 0. 0. 0. 0. 0. 0. 0. 0.]\n",
      " [0. 0. 0. 0. 0. 0. 0. 0. 0.]\n",
      " [0. 0. 0. 0. 0. 0. 0. 0. 0.]]\n"
     ]
    }
   ],
   "source": [
    "#3\n",
    "import numpy as np\n",
    "\n",
    "\n",
    "matriz_zeros = np.zeros((3, 9))\n",
    "\n",
    "print(matriz_zeros)\n",
    "\n"
   ]
  },
  {
   "cell_type": "code",
   "execution_count": null,
   "metadata": {},
   "outputs": [
    {
     "name": "stdout",
     "output_type": "stream",
     "text": [
      "[[1 1 1 1 1 1 1]\n",
      " [1 1 1 1 1 1 1]\n",
      " [1 1 1 1 1 1 1]\n",
      " [1 1 1 1 1 1 1]\n",
      " [1 1 1 1 1 1 1]\n",
      " [1 1 1 1 1 1 1]]\n"
     ]
    }
   ],
   "source": [
    "#4\n",
    "import numpy as np\n",
    "\n",
    "\n",
    "matriz_uns = np.ones((6, 7), dtype=int)\n",
    "\n",
    "print(matriz_uns)\n",
    "\n"
   ]
  },
  {
   "cell_type": "code",
   "execution_count": 6,
   "metadata": {},
   "outputs": [
    {
     "name": "stdout",
     "output_type": "stream",
     "text": [
      "[[1 0 0 0]\n",
      " [0 1 0 0]\n",
      " [0 0 1 0]\n",
      " [0 0 0 1]]\n"
     ]
    }
   ],
   "source": [
    "#5\n",
    "import numpy as np\n",
    "\n",
    "\n",
    "matriz_identidade = np.eye(4, dtype=int)\n",
    "\n",
    "print(matriz_identidade)\n"
   ]
  },
  {
   "cell_type": "code",
   "execution_count": 7,
   "metadata": {},
   "outputs": [
    {
     "name": "stdout",
     "output_type": "stream",
     "text": [
      "[0.98390516 0.6479053  0.46772207 0.96040133 0.10616364]\n"
     ]
    }
   ],
   "source": [
    "6#\n",
    "import numpy as np\n",
    "\n",
    "\n",
    "array_aleatorio = np.random.rand(5)\n",
    "\n",
    "print(array_aleatorio)\n",
    "\n",
    "\n"
   ]
  },
  {
   "cell_type": "code",
   "execution_count": 8,
   "metadata": {},
   "outputs": [
    {
     "name": "stdout",
     "output_type": "stream",
     "text": [
      "[[4 5 3 0 4 2]\n",
      " [2 3 4 2 3 3]\n",
      " [2 2 1 1 0 1]]\n"
     ]
    }
   ],
   "source": [
    "#7\n",
    "import numpy as np\n",
    "\n",
    "\n",
    "matriz_aleatoria = np.random.randint(0, 6, (3, 6))\n",
    "\n",
    "print(matriz_aleatoria)\n",
    "\n",
    "\n"
   ]
  },
  {
   "cell_type": "code",
   "execution_count": 9,
   "metadata": {},
   "outputs": [
    {
     "name": "stdout",
     "output_type": "stream",
     "text": [
      "O valor máximo da matriz é: 22\n"
     ]
    }
   ],
   "source": [
    "#8\n",
    "import numpy as np\n",
    "\n",
    "\n",
    "matriz = np.array([[4, 6, 8],\n",
    "                   [-4, 3, 2],\n",
    "                   [22, -15, 12]])\n",
    "\n",
    "\n",
    "valor_maximo = np.max(matriz)\n",
    "\n",
    "print(\"O valor máximo da matriz é:\", valor_maximo)\n",
    "\n"
   ]
  },
  {
   "cell_type": "code",
   "execution_count": 10,
   "metadata": {},
   "outputs": [
    {
     "name": "stdout",
     "output_type": "stream",
     "text": [
      "O valor mínimo da matriz é: -15\n"
     ]
    }
   ],
   "source": [
    "#9\n",
    "import numpy as np\n",
    "\n",
    "\n",
    "matriz = np.array([[4, 6, 8],\n",
    "                   [-4, 3, 2],\n",
    "                   [22, -15, 12]])\n",
    "\n",
    "\n",
    "valor_minimo = np.min(matriz)\n",
    "\n",
    "print(\"O valor mínimo da matriz é:\", valor_minimo)\n",
    "\n"
   ]
  },
  {
   "cell_type": "code",
   "execution_count": 11,
   "metadata": {},
   "outputs": [
    {
     "name": "stdout",
     "output_type": "stream",
     "text": [
      "A soma de todos os elementos da matriz é: 38\n"
     ]
    }
   ],
   "source": [
    "#10\n",
    "import numpy as np\n",
    "\n",
    "\n",
    "matriz = np.array([[4, 6, 8],\n",
    "                   [-4, 3, 2],\n",
    "                   [22, -15, 12]])\n",
    "\n",
    "\n",
    "soma_total = np.sum(matriz)\n",
    "\n",
    "print(\"A soma de todos os elementos da matriz é:\", soma_total)\n",
    "\n"
   ]
  },
  {
   "cell_type": "code",
   "execution_count": 12,
   "metadata": {},
   "outputs": [
    {
     "name": "stdout",
     "output_type": "stream",
     "text": [
      "A média dos elementos do array é: 19.833333333333332\n"
     ]
    }
   ],
   "source": [
    "#11\n",
    "import numpy as np\n",
    "\n",
    "\n",
    "array = np.array([13, -2, 6, 8, 23, 15, 3, 90, 4, 10, 56, 12])\n",
    "\n",
    "\n",
    "media = np.mean(array)\n",
    "\n",
    "print(\"A média dos elementos do array é:\", media)\n",
    "\n",
    "\n"
   ]
  },
  {
   "cell_type": "code",
   "execution_count": 13,
   "metadata": {},
   "outputs": [
    {
     "name": "stdout",
     "output_type": "stream",
     "text": [
      "O 4º elemento do array é: 8\n"
     ]
    }
   ],
   "source": [
    "#12\n",
    "import numpy as np\n",
    "\n",
    "\n",
    "array = np.array([13, -2, 6, 8, 23, 15, 3, 90, 4, 10, 56, 12])\n",
    "\n",
    "\n",
    "quarto_elemento = array[3]\n",
    "\n",
    "print(\"O 4º elemento do array é:\", quarto_elemento)\n",
    "\n"
   ]
  },
  {
   "cell_type": "code",
   "execution_count": 14,
   "metadata": {},
   "outputs": [
    {
     "name": "stdout",
     "output_type": "stream",
     "text": [
      "Os 3 últimos elementos do array são: [10 56 12]\n"
     ]
    }
   ],
   "source": [
    "#13\n",
    "import numpy as np\n",
    "\n",
    "\n",
    "array = np.array([13, -2, 6, 8, 23, 15, 3, 90, 4, 10, 56, 12])\n",
    "\n",
    "\n",
    "ultimos_elementos = array[-3:]\n",
    "\n",
    "print(\"Os 3 últimos elementos do array são:\", ultimos_elementos)\n",
    "\n"
   ]
  },
  {
   "cell_type": "code",
   "execution_count": 16,
   "metadata": {},
   "outputs": [
    {
     "name": "stdout",
     "output_type": "stream",
     "text": [
      "Os elementos a partir da posição 2 são: [ 6  8 23 15  3 90  4 10 56 12]\n"
     ]
    }
   ],
   "source": [
    "#14\n",
    "import numpy as np\n",
    "\n",
    "\n",
    "array = np.array([13, -2, 6, 8, 23, 15, 3, 90, 4, 10, 56, 12])\n",
    "\n",
    "\n",
    "elementos_a_partir_da_posicao_2 = array[2:]\n",
    "\n",
    "print(\"Os elementos a partir da posição 2 são:\", elementos_a_partir_da_posicao_2)\n",
    "\n"
   ]
  },
  {
   "cell_type": "code",
   "execution_count": 25,
   "metadata": {},
   "outputs": [
    {
     "name": "stdout",
     "output_type": "stream",
     "text": [
      "Os elementos entre o 2º e o 6º (inclusive) são: [-2  6  8 23 15]\n"
     ]
    }
   ],
   "source": [
    "#15\n",
    "import numpy as np\n",
    "\n",
    "\n",
    "array = np.array([13, -2, 6, 8, 23, 15, 3, 90, 4, 10, 56, 12])\n",
    "\n",
    "\n",
    "elementos_entre_2_e_6 = array[1:6]\n",
    "\n",
    "print(\"Os elementos entre o 2º e o 6º (inclusive) são:\", elementos_entre_2_e_6)\n"
   ]
  },
  {
   "cell_type": "code",
   "execution_count": 31,
   "metadata": {},
   "outputs": [
    {
     "name": "stdout",
     "output_type": "stream",
     "text": [
      "O array desejado é: [23 15  3 90]\n"
     ]
    }
   ],
   "source": [
    "#16\n",
    "import numpy as np\n",
    "\n",
    "matriz = np.array([[ 1,  3,  16, -25,  14],\n",
    "                   [ 2,  0,  10,   5,  17],\n",
    "                   [19,  4,   8,  15,  13],\n",
    "                   [ 7, 12,  -5,  14,   0]])\n",
    "\n",
    "\n",
    "resultado = np.array([23, 15, 3, 90])\n",
    "\n",
    "print(\"O array desejado é:\", resultado)\n",
    "\n",
    "\n",
    "\n",
    "\n"
   ]
  },
  {
   "cell_type": "code",
   "execution_count": 32,
   "metadata": {},
   "outputs": [
    {
     "name": "stdout",
     "output_type": "stream",
     "text": [
      "A 3ª linha da matriz é: [19  4  8 15 13]\n"
     ]
    }
   ],
   "source": [
    "#17\n",
    "import numpy as np\n",
    "\n",
    "\n",
    "matriz = np.array([[1, 3, 16, -25, 14],\n",
    "                   [2, 0, 10, 5, 17],\n",
    "                   [19, 4, 8, 15, 13],\n",
    "                   [7, 12, -5, 14, 0]])\n",
    "\n",
    "\n",
    "terceira_linha = matriz[2]\n",
    "\n",
    "print(\"A 3ª linha da matriz é:\", terceira_linha)\n"
   ]
  },
  {
   "cell_type": "code",
   "execution_count": 33,
   "metadata": {},
   "outputs": [
    {
     "name": "stdout",
     "output_type": "stream",
     "text": [
      "A 4ª coluna da matriz é: [-25   5  15  14]\n"
     ]
    }
   ],
   "source": [
    "#18\n",
    "import numpy as np\n",
    "\n",
    "\n",
    "matriz = np.array([[1, 3, 16, -25, 14],\n",
    "                   [2, 0, 10, 5, 17],\n",
    "                   [19, 4, 8, 15, 13],\n",
    "                   [7, 12, -5, 14, 0]])\n",
    "\n",
    "\n",
    "quarta_coluna = matriz[:, 3]\n",
    "\n",
    "print(\"A 4ª coluna da matriz é:\", quarta_coluna)\n"
   ]
  },
  {
   "cell_type": "code",
   "execution_count": 34,
   "metadata": {},
   "outputs": [
    {
     "name": "stdout",
     "output_type": "stream",
     "text": [
      "O elemento de valor 10 é: 10\n"
     ]
    }
   ],
   "source": [
    "#19\n",
    "import numpy as np\n",
    "\n",
    "\n",
    "matriz = np.array([[1, 3, 16, -25, 14],\n",
    "                   [2, 0, 10, 5, 17],\n",
    "                   [19, 4, 8, 15, 13],\n",
    "                   [7, 12, -5, 14, 0]])\n",
    "\n",
    "\n",
    "elemento_10 = matriz[1, 2]\n",
    "\n",
    "print(\"O elemento de valor 10 é:\", elemento_10)\n"
   ]
  },
  {
   "cell_type": "code",
   "execution_count": 35,
   "metadata": {},
   "outputs": [
    {
     "name": "stdout",
     "output_type": "stream",
     "text": [
      "A matriz é:\n",
      "[[ 0 10  5]\n",
      " [ 4  8 15]]\n"
     ]
    }
   ],
   "source": [
    "#20\n",
    "import numpy as np\n",
    "\n",
    "\n",
    "matriz = np.array([[0, 10, 5],\n",
    "                   [4, 8, 15]])\n",
    "\n",
    "\n",
    "print(\"A matriz é:\")\n",
    "print(matriz)\n"
   ]
  },
  {
   "cell_type": "code",
   "execution_count": 36,
   "metadata": {},
   "outputs": [
    {
     "name": "stdout",
     "output_type": "stream",
     "text": [
      "A nova matriz é:\n",
      "[[2 1 1 2]\n",
      " [1 2 2 1]\n",
      " [1 2 1 1]]\n"
     ]
    }
   ],
   "source": [
    "#21\n",
    "import numpy as np\n",
    "\n",
    "\n",
    "matriz = np.array([[2, -1, 15, 24],\n",
    "                   [-3, 18, 4, 25],\n",
    "                   [9, 10, -13, 7]])\n",
    "\n",
    "\n",
    "nova_matriz = np.where(matriz % 2 == 0, 2, 1)\n",
    "\n",
    "\n",
    "print(\"A nova matriz é:\")\n",
    "print(nova_matriz)\n"
   ]
  },
  {
   "cell_type": "code",
   "execution_count": null,
   "metadata": {},
   "outputs": [],
   "source": []
  },
  {
   "cell_type": "code",
   "execution_count": null,
   "metadata": {},
   "outputs": [],
   "source": []
  },
  {
   "cell_type": "code",
   "execution_count": null,
   "metadata": {},
   "outputs": [],
   "source": []
  }
 ],
 "metadata": {
  "kernelspec": {
   "display_name": "Python 3",
   "language": "python",
   "name": "python3"
  },
  "language_info": {
   "codemirror_mode": {
    "name": "ipython",
    "version": 3
   },
   "file_extension": ".py",
   "mimetype": "text/x-python",
   "name": "python",
   "nbconvert_exporter": "python",
   "pygments_lexer": "ipython3",
   "version": "3.12.6"
  }
 },
 "nbformat": 4,
 "nbformat_minor": 2
}
