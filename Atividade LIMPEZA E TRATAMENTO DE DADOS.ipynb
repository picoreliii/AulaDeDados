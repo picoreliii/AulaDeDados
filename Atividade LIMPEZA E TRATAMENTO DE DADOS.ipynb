import pandas as pd
import matplotlib.pyplot as plt
import seaborn as sns

# Carregamento dos dados
df = pd.read_csv('jogadores.csv')

# Tratamento de dados

# 1. Dados faltantes: Substituição por mediana (numéricos) e moda (categóricos) 
# para preservar a distribuição dos dados e evitar perda de informação.
for col in ['score', 'nivel', 'idade']:
    df[col] = df[col].fillna(df[col].median())  
for col in ['categoria', 'pais']:
    df[col] = df[col].fillna(df[col].mode()[0])

# 2. Inconsistências em 'pais' e 'categoria': Padronização dos dados 
# e correção de erros de digitação para garantir a qualidade dos dados.
df['pais'] = df['pais'].replace(['C#nada', 'Portuga&', '%apan'], ['Canada', 'Portugal', 'Japan'])
df['categoria'] = df['categoria'].replace(['m@go'], ['mago'])

# 3. Outliers: Identificação e tratamento utilizando a técnica IQR 
# para evitar distorções nas análises e garantir a robustez dos resultados.
for column in ['score', 'nivel', 'idade']:
    Q1 = df[column].quantile(0.25)
    Q3 = df[column].quantile(0.75)
    IQR = Q3 - Q1
    lower_bound = Q1 - 1.5 * IQR
    upper_bound = Q3 + 1.5 * IQR
    
    if column == 'score':
        df[column] = df[column].apply(lambda x: 1000000 if x > upper_bound else x)  # Substitui outliers por valor máximo permitido (1000000)
        df[column] = df[column].apply(lambda x: 0 if x < lower_bound else x)  # Substitui valores negativos por 0
    elif column == 'nivel':
        df[column] = df[column].apply(lambda x: 1000 if x > upper_bound else x)  # Substitui outliers por valor máximo permitido (1000)
        df[column] = df[column].apply(lambda x: 0 if x < lower_bound else x)  # Substitui valores negativos por 0
    elif column == 'idade':
        df[column] = df[column].apply(lambda x: 100 if x > upper_bound else x)  # Substitui outliers por valor máximo permitido (100)
        df[column] = df[column].apply(lambda x: 0 if x < lower_bound else x)  # Substitui valores negativos por 0

# Visualização de dados: Geração de gráficos para análise exploratória 
# e compreensão da distribuição e relações entre as variáveis.

# Histogramas: Visualização da distribuição de frequência de cada variável.
plt.figure(figsize=(15, 5))
plt.subplot(1, 3, 1)
plt.hist(df['score'], bins=20)
plt.title('Distribuição de Score')
plt.xlabel('Score')
plt.ylabel('Frequência')

plt.subplot(1, 3, 2)
plt.hist(df['nivel'], bins=20)
plt.title('Distribuição de Nível')
plt.xlabel('Nível')
plt.ylabel('Frequência')

plt.subplot(1, 3, 3)
plt.hist(df['idade'], bins=20)
plt.title('Distribuição de Idade')
plt.xlabel('Idade')
plt.ylabel('Frequência')
plt.tight_layout()
plt.show()

# Box plots: Identificação de outliers e visualização da distribuição 
# dos dados por meio de quartis e intervalos interquartis.
plt.figure(figsize=(15, 5))
plt.subplot(1, 3, 1)
sns.boxplot(x=df['score'])
plt.title('Box Plot de Score')

plt.subplot(1, 3, 2)
sns.boxplot(x=df['nivel'])
plt.title('Box Plot de Nível')

plt.subplot(1, 3, 3)
sns.boxplot(x=df['idade'])
plt.title('Box Plot de Idade')

plt.tight_layout()
plt.show()

# Matriz de gráficos de dispersão: Visualização das relações entre 
# as variáveis numéricas, identificando possíveis correlações.
pd.plotting.scatter_matrix(df[['score', 'nivel', 'idade']], figsize=(10, 10))
plt.show()