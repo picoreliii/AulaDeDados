{
 "cells": [
  {
   "cell_type": "code",
   "execution_count": null,
   "metadata": {},
   "outputs": [
    {
     "name": "stdout",
     "output_type": "stream",
     "text": [
      "A soma do primeiro é 23 e do segundo é 50 total = 73\n"
     ]
    }
   ],
   "source": [
    "#1\n",
    "num1 = 23\n",
    "num2 = 50\n",
    "soma = num1 + num2\n",
    "print(\"A soma do primeiro é\", num1, \"e do segundo é\", num2, \"total =\", soma)"
   ]
  },
  {
   "cell_type": "code",
   "execution_count": 5,
   "metadata": {},
   "outputs": [
    {
     "name": "stdout",
     "output_type": "stream",
     "text": [
      "1150\n"
     ]
    }
   ],
   "source": [
    "#2\n",
    "multiplicacao = 23 * 50\n",
    "print(multiplicacao)\n"
   ]
  },
  {
   "cell_type": "code",
   "execution_count": null,
   "metadata": {},
   "outputs": [
    {
     "name": "stdout",
     "output_type": "stream",
     "text": [
      "8.233333333333333\n"
     ]
    }
   ],
   "source": [
    "#3\n",
    "nota1 = 8.5\n",
    "nota2 = 7.0\n",
    "nota3 = 9.2\n",
    "media = (nota1 + nota2 + nota3) / 3\n",
    "print(media)\n"
   ]
  },
  {
   "cell_type": "code",
   "execution_count": 8,
   "metadata": {},
   "outputs": [
    {
     "name": "stdout",
     "output_type": "stream",
     "text": [
      "Positivo\n"
     ]
    }
   ],
   "source": [
    "#4\n",
    "num1 = 20\n",
    "\n",
    "if num1 >= 0:\n",
    "    print(\"Positivo\")\n",
    "else:\n",
    "    print(\"Negativo\")\n"
   ]
  },
  {
   "cell_type": "code",
   "execution_count": 10,
   "metadata": {},
   "outputs": [
    {
     "name": "stdout",
     "output_type": "stream",
     "text": [
      "Par\n"
     ]
    }
   ],
   "source": [
    "#5\n",
    "num2 = 20\n",
    "\n",
    "if num2 % 2 == 0:\n",
    "    print(\"Par\")\n",
    "else:\n",
    "    print(\"Ímpar\")"
   ]
  },
  {
   "cell_type": "code",
   "execution_count": 12,
   "metadata": {},
   "outputs": [
    {
     "name": "stdout",
     "output_type": "stream",
     "text": [
      "Aprovado\n"
     ]
    }
   ],
   "source": [
    "6#\n",
    "nota1 = 8.5\n",
    "nota2 = 7.0\n",
    "nota3 = 9.2\n",
    "media = (nota1 + nota2 + nota3) / 3\n",
    "\n",
    "if media >= 6.0:\n",
    "    print(\"Aprovado\")\n",
    "elif 4.0 <= media < 6.0:\n",
    "    print(\"Recuperação\")\n",
    "else:\n",
    "    print(\"Reprovado\")\n"
   ]
  },
  {
   "cell_type": "code",
   "execution_count": 14,
   "metadata": {},
   "outputs": [
    {
     "name": "stdout",
     "output_type": "stream",
     "text": [
      "Idoso\n"
     ]
    }
   ],
   "source": [
    "#7\n",
    "idade = 80\n",
    "\n",
    "if idade < 12:\n",
    "    print(\"Criança\")\n",
    "elif 12 <= idade < 18:\n",
    "    print(\"Adolescente\")\n",
    "elif 18 <= idade < 60:\n",
    "    print(\"Adulto\")\n",
    "else:\n",
    "    print(\"Idoso\")\n",
    "\n"
   ]
  },
  {
   "cell_type": "code",
   "execution_count": 16,
   "metadata": {},
   "outputs": [
    {
     "name": "stdout",
     "output_type": "stream",
     "text": [
      "1\n",
      "2\n",
      "3\n",
      "4\n",
      "5\n",
      "6\n",
      "7\n",
      "8\n",
      "9\n",
      "10\n"
     ]
    }
   ],
   "source": [
    "#8\n",
    "contador = 1\n",
    "\n",
    "while contador <= 10:\n",
    "    print(contador)\n",
    "    contador += 1\n"
   ]
  },
  {
   "cell_type": "code",
   "execution_count": 18,
   "metadata": {},
   "outputs": [
    {
     "name": "stdout",
     "output_type": "stream",
     "text": [
      "1\n",
      "2\n",
      "3\n",
      "4\n",
      "5\n",
      "6\n",
      "7\n",
      "8\n",
      "9\n",
      "10\n"
     ]
    }
   ],
   "source": [
    "#9\n",
    "for i in range(1, 11):\n",
    "    print(i)\n"
   ]
  },
  {
   "cell_type": "code",
   "execution_count": 20,
   "metadata": {},
   "outputs": [
    {
     "name": "stdout",
     "output_type": "stream",
     "text": [
      "3 x 1 = 3\n",
      "3 x 2 = 6\n",
      "3 x 3 = 9\n",
      "3 x 4 = 12\n",
      "3 x 5 = 15\n",
      "3 x 6 = 18\n",
      "3 x 7 = 21\n",
      "3 x 8 = 24\n",
      "3 x 9 = 27\n",
      "3 x 10 = 30\n"
     ]
    }
   ],
   "source": [
    "#10\n",
    "num1 = 3 \n",
    "\n",
    "for i in range(1, 11):\n",
    "    print(f\"{num1} x {i} = {num1 * i}\")\n"
   ]
  },
  {
   "cell_type": "code",
   "execution_count": 22,
   "metadata": {},
   "outputs": [
    {
     "name": "stdout",
     "output_type": "stream",
     "text": [
      "0\n",
      "10\n",
      "20\n",
      "30\n",
      "40\n",
      "50\n",
      "60\n",
      "70\n",
      "80\n",
      "90\n",
      "100\n"
     ]
    }
   ],
   "source": [
    "#11\n",
    "numero = 0\n",
    "\n",
    "while numero <= 100:\n",
    "    print(numero)\n",
    "    numero += 10\n",
    "\n"
   ]
  },
  {
   "cell_type": "code",
   "execution_count": 24,
   "metadata": {},
   "outputs": [
    {
     "name": "stdout",
     "output_type": "stream",
     "text": [
      "0\n",
      "2\n",
      "4\n",
      "6\n",
      "8\n",
      "10\n",
      "12\n",
      "14\n",
      "16\n",
      "18\n",
      "20\n"
     ]
    }
   ],
   "source": [
    "#12\n",
    "for i in range(0, 21, 2):\n",
    "    print(i)\n"
   ]
  },
  {
   "cell_type": "code",
   "execution_count": 26,
   "metadata": {},
   "outputs": [
    {
     "name": "stdout",
     "output_type": "stream",
     "text": [
      "19°C é igual a 66.2°F\n"
     ]
    }
   ],
   "source": [
    "#13\n",
    "def celsius_para_fahrenheit(celsius):\n",
    "    fahrenheit = celsius * 1.8 + 32\n",
    "    return fahrenheit\n",
    "\n",
    "# Exemplo de uso\n",
    "temperatura_celsius = 19\n",
    "temperatura_fahrenheit = celsius_para_fahrenheit(temperatura_celsius)\n",
    "print(f\"{temperatura_celsius}°C é igual a {temperatura_fahrenheit}°F\")\n"
   ]
  },
  {
   "cell_type": "code",
   "execution_count": 28,
   "metadata": {},
   "outputs": [
    {
     "name": "stdout",
     "output_type": "stream",
     "text": [
      "O resultado de 15 * 5 é: 75\n"
     ]
    }
   ],
   "source": [
    "#14\n",
    "def calculadora():\n",
    "   \n",
    "    num1 = 15\n",
    "    num2 = 5\n",
    "    operacao = \"*\" \n",
    "    \n",
    "    if operacao == \"+\":\n",
    "        resultado = num1 + num2\n",
    "    elif operacao == \"-\":\n",
    "        resultado = num1 - num2\n",
    "    elif operacao == \"*\":\n",
    "        resultado = num1 * num2\n",
    "    elif operacao == \"/\":\n",
    "        if num2 != 0:\n",
    "            resultado = num1 / num2\n",
    "        else:\n",
    "            resultado = \"Erro: divisão por zero\"\n",
    "    else:\n",
    "        resultado = \"Operação inválida\"\n",
    "\n",
    "    print(f\"O resultado de {num1} {operacao} {num2} é: {resultado}\")\n",
    "\n",
    "calculadora()\n"
   ]
  }
 ],
 "metadata": {
  "kernelspec": {
   "display_name": "Python 3",
   "language": "python",
   "name": "python3"
  },
  "language_info": {
   "codemirror_mode": {
    "name": "ipython",
    "version": 3
   },
   "file_extension": ".py",
   "mimetype": "text/x-python",
   "name": "python",
   "nbconvert_exporter": "python",
   "pygments_lexer": "ipython3",
   "version": "3.12.6"
  }
 },
 "nbformat": 4,
 "nbformat_minor": 2
}
